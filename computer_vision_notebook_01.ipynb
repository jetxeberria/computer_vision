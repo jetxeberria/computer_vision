{
 "cells": [
  {
   "cell_type": "markdown",
   "metadata": {},
   "source": [
    "# Computer Vision Notebook"
   ]
  },
  {
   "cell_type": "markdown",
   "metadata": {},
   "source": [
    "Se pide la elaboración de una memoria M0 en donde se recogan los procedimientos realizados y resultados obtenidos del procesado de una serie de imágenes del cerebro. Se trata de distinguir el lóbulo temporal en imágenes 2D hasta que éste se une a la parte central del cerebro.\n",
    "\n",
    "Imagenes disponibles:\n",
    "    * I3T : Imagen de Resonancia Magnética de 3T\n",
    "    * I3TGM : Voxel de materia gris\n",
    "    * I3TWM : Voxel de materia blanca\n",
    "    * I3TCSF : Voxel de líquido cerebroespinal\n",
    "\n",
    "Se deben abordar los siguientes pasos:\n",
    "\n",
    "1 .- Leer las imágenes 3D y obtener las imágenes 2D correspondientes a cada corte del plano coronal.  \n",
    "2 .- Localizar blobs en 2D  \n",
    "3 .- Identificar objetos en 2D  \n",
    "    * Objeto tipo 1: Blob de GM aislado - Se produce cuando comienza a aparecer el lóbulo temporal\n",
    "    * Objeto tipo 2: Blob de GM aislado que contiene blob de WM\n",
    "    * Objeto tipo 3: División de blobs grandes en puntos de corte más probables. Localización del lóbulo temporal.\n",
    "4 .- Localizar en la GM los giros y los surcos\n",
    "    * Puntos de máxima curvatura interior y exterior de la GM\n",
    "    * Unir los puntos para distinguir los giros y los surcos.\n",
    "\n",
    "Este notebook es complementario a la memoria M0 y alberga las configuraciones, pasos y comprobaciones realizadas, permitiendo al lector reproducirlas y modificarlas para la mejor comprensión de los procedimientos.\n",
    "\n",
    "Para el correcto uso y visualización de este notebook, seguir las indicaciones del archivo README.md del repositorio computer_vision. La lectura del archivo .ipynb directa desde Github no permite la visualización del documento entero debido a la corta previsualización permitida."
   ]
  },
  {
   "cell_type": "markdown",
   "metadata": {},
   "source": [
    "## Entorno de trabajo\n",
    "Sistema operativo: Ubuntu 16.04  \n",
    "Lenguaje escogido: Python  \n",
    "&nbsp;&nbsp;&nbsp;&nbsp;&nbsp;&nbsp; Dada la falta de experiencia en programación del autor, se ha decidido utilizar un mismo lenguaje para las tareas de las distintas asignaturas. Se ha escogido Python por haber hecho ya anteriormente la apuesta por conocer este entorno en las asignaturas paralelas y se respalda esta decisión en la creciente utilización de este lenguaje, en particular en la visión por ordenador.  \n",
    "    \n",
    "Librerías utilizadas:  \n",
    "    * Scipy - Ecosistema open-source basado en Python para operaciones matemáticas. Contiene los paquetes scipy-library, numpy, matplotlib, ipython, simpy, pandas\n",
    "    * Numpy - Librería básica para el tratamiento de arrays\n",
    "    * Matplotlib - Librería básica para la visualización de imágenes y gráficos.\n",
    "    * Ipython - Para la utilización de los notebooks Jupyter.\n",
    "    * ITK - Se ha realizado un 'wraping' o 'envoltura' de la librería original (c++) para poder ser utilizada mediante Python\n",
    "    * SimpleITK - Proporciona la mayoría de las funciones propias de ITK pero con un mayor nivel de abstracción, reduciendo los procedimientos necesarios. \n",
    "    * Scikit-image - Proporciona gran cantidad de funciones y filtros de tratamiento de imágenes, tiene alta compatibilidad con las librerías matplotlib y numpy\n",
    "\n",
    "Software utilizado:\n",
    "    * Python     - Para la elaboración del programa final\n",
    "    * Ipython    - Para la realización de pruebas\n",
    "    * Jupyter Notebook  - Para la exposición de resultados y realización de pruebas\n",
    "    * 3dSlicer v4.8.1   - Para la obtención de imágenes 2D\n",
    "    * Fiji (Fiji Is Just ImageJ) - Para la visualización de imágenes instanciadas por la orden Show de la librería SimpleITK\n"
   ]
  },
  {
   "cell_type": "markdown",
   "metadata": {},
   "source": [
    "## Procedimiento\n",
    "\n",
    "### 1 - Leer las imágenes 3D y obtener las imágenes 2D correspondientes a cada corte del plano coronal.\n",
    "\n",
    "Para este procedimiento se ha utilizado el software 3dSlicer, recomendado por la comunidad de SimpleITK y posteriormente se ha hecho un tratamiento sobre imágenes Dicom para obtener los slices en formato PNG.\n",
    "\n",
    "#### 1.1 - Obtención de los slices de 2D\n",
    "\n",
    "1 .- Abrir el programa\n",
    "    * Abrir el terminal (CTRL + ALT + T)\n",
    "    * Localizar el ejecutable del programa 3dslice en el disco y ejecutar './path/to/file/Slicer'\n",
    "    \n",
    "2 .- Carga de datos: \n",
    "    * En el menu 'File' seleccionar 'Add data' > 'Choose File(s) to Add'\n",
    "    * Localizar fichero en el disco '/path/to/file/I3TWM.hdr' y presionar 'Open'\n",
    "\n",
    "Para obtener los slices individuales se hace uso del módulo 'Create a DICOM Series'. Sin embargo, este método, proporciona las imágenes segmentadas acorde al plano axial, mientras el problema requiere obtener las del plano coronal. Para lograr obtener las secciones adecuadas se debe cambiar la orientación del modelo, lo que se realiza con el módulo 'Orient Scalar Volume'\n",
    "\n",
    "3 .- Rotación del modelo ([modulo_info](https://www.slicer.org/wiki/Modules:OrientImages-Documentation-3.6)): \n",
    "    * En el desplegable de 'Modules' escoger 'Converters' > 'Orient Scalar Volume'\n",
    "    * En el apartado 'IO' > desplegable 'Input Volume 1' escoger 'I3T'\n",
    "    * En el apartado 'IO' > desplegable 'Output Volume' escoger 'I3T'\n",
    "    * En el apartado 'Orientation Parameters' escoger la orientación 'Coronal' y presionar 'Apply'.\n",
    "    \n",
    "4 .- Obtención de los slices: \n",
    "    * En el desplegable de 'Modules' escoger 'Converters' > 'Create a DICOM Series'\n",
    "    * En el apartado 'Input' > desplegable 'Input Volume' escoger 'I3T'\n",
    "    * En el apartado 'Filter Settings' > opción 'DICOM Directory' > seleccionar directorio de destino\n",
    "    * En el apartado 'Filter Settings' > opción 'Output Type:' > Seleccionar 'unsigned short' para posteriormente convertir las imágenes a formato '.png' y presionar 'Apply'\n",
    "Las imágenes DICOM se caracterizan por incluir una capa de meta-datos que habitualmente aloja la información del paciente. Para obtener las imágenes se descarta dicha información, a parte de no ser necesaria, si es información real, no se debe publicar.\n",
    "\n",
    "    \n",
    "    \n"
   ]
  },
  {
   "cell_type": "markdown",
   "metadata": {},
   "source": [
    "Se deben repetir los pasos 2, 3 y 4 con los ficheros I3TGM, I3TCSF e I3TWM"
   ]
  },
  {
   "cell_type": "markdown",
   "metadata": {},
   "source": [
    "Llegado a este punto se tienen tantos slices como el valor de la tercera dimensión en la imagen, en función del giro aplicado al modelo la tercera dimensión será más o menos larga (la imagen 3D no es un cubo regular).\n",
    "\n",
    "#### 1.2 - Conversión de slices de formato DICOM a formato PNG\n",
    "\n",
    "Será necesaria la conversión de las imágenes a un formato exclusivo de imagen como PNG, ya que los datos clínicos no son relevantes para este estudio y el trabajo con numpy-arrays es altamente recomendado y extendido. Por ello, se define una estructura de ficheros donde organizar los datos."
   ]
  },
  {
   "cell_type": "code",
   "execution_count": null,
   "metadata": {},
   "outputs": [],
   "source": [
    "!tree -L 3"
   ]
  },
  {
   "cell_type": "raw",
   "metadata": {},
   "source": [
    "Output:\n",
    ".\n",
    "├── computer_vision_notebook.ipynb\n",
    "├── datos\n",
    "│   ├── dicom\n",
    "│   │   ├── CSF\n",
    "│   │   ├── GM\n",
    "│   │   ├── I3T\n",
    "│   │   └── WM\n",
    "│   ├── I3TCSF.hdr\n",
    "│   ├── I3TCSF.img\n",
    "│   ├── I3TGM.hdr\n",
    "│   ├── I3TGM.img\n",
    "│   ├── I3T.hdr\n",
    "│   ├── I3T.img\n",
    "│   ├── I3TWM.hdr\n",
    "│   ├── I3TWM.img\n",
    "│   ├── I3T.zip\n",
    "│   └── png\n",
    "│       ├── CSF\n",
    "│       ├── GM\n",
    "│       ├── I3T\n",
    "│       └── WM\n",
    "├── lib\n",
    "│   ├── DicomSeriesReader.py\n",
    "│   └── __init__.py\n",
    "└── Untitled.ipynb"
   ]
  },
  {
   "cell_type": "markdown",
   "metadata": {},
   "source": [
    "##### 1.2.1 - Configuración del entorno para visualización de imágenes mediante la librería SimpleITK\n",
    "\n",
    "Para la extracción y la visualización de las imágenes se utilizan órdenes de la librería **SimpleITK**. Concretamente, el comando **Show** busca por defecto el ejecutable del programa ImageJ, siendo necesaria la adecuada configuración del entorno para la utilización de otro visualizador.\n",
    "\n",
    "Se dispone de un pequeño script en Python para la visualización y conversión de las imágenes Dicom mediante funciones de la librería SimpleITK. Este programa recibe como argumentos el directorio de los archivos Dicom y el fichero saliente deseado. La ejecución a priori de este script resulta en el siguiente error:"
   ]
  },
  {
   "cell_type": "raw",
   "metadata": {},
   "source": [
    "Traceback (most recent call last):\n",
    "  File \"program.py\", line 49, in <module>\n",
    "    sitk.Show( image, \"Dicom Series\" )\n",
    "  File \"/usr/local/lib/python2.7/dist-packages/SimpleITK/SimpleITK.py\", line 7733, in Show\n",
    "    return _SimpleITK.Show(*args, **kwargs)\n",
    "RuntimeError: Exception thrown in SimpleITK Show: /tmp/SimpleITK/Code/IO/src/sitkShow.cxx:116:\n",
    "sitk::ERROR: No ImageJ/Fiji application found."
   ]
  },
  {
   "cell_type": "markdown",
   "metadata": {},
   "source": [
    "En este caso se ha instalado la versión más actual de ImageJ: Fiji (Fiji Is Just ImageJ) / ImageJ2. El nombre del ejecutable del programa no es el mismo que tiene almacenado por defecto la configuración de SimpleITK por lo que es necesario indicarle al entorno de la librería dónde puede encontrar el ejecutable para visualizar las imágenes.\n",
    "\n",
    "Se puede indicar cualquier programa válido; se va a mantener la recomendación de utilizar Fiji y para ello se debe actualizar la variable de entorno SITK_SHOW_COMMAND. Su valor viene preestablecido internamente, por lo que una exploración del entorno no muestra dicha variable a no ser que haya sido explícitamente establecida:"
   ]
  },
  {
   "cell_type": "code",
   "execution_count": 277,
   "metadata": {},
   "outputs": [
    {
     "name": "stdout",
     "output_type": "stream",
     "text": [
      "SITK_SHOW_COMMAND=/home/jetxeberria/Documents/Programs/fiji/Fiji.app/ImageJ-linux64\r\n"
     ]
    }
   ],
   "source": [
    "!env | grep -e SITK"
   ]
  },
  {
   "cell_type": "raw",
   "metadata": {},
   "source": [
    "Output:\n",
    ">"
   ]
  },
  {
   "cell_type": "markdown",
   "metadata": {},
   "source": [
    "Para ejecutar órdenes propias del shell se utiliza el comando 'mágico' de Ipython **%system**, al cual se puede acceder mediante el atajo (!!) precediento a la orden deseada, reportando el output en formato de lista. El atajo (!) reporta el mismo resultado pero como un único string. Con este método ejecutamos las órdenes de shell desde este mismo espacio de trabajo."
   ]
  },
  {
   "cell_type": "markdown",
   "metadata": {},
   "source": [
    "La ejecución del Jupyter Notebook, se realiza desde un proceso de *bash* con un determinado entorno, por lo que con una inicialización limpia del programa, la órden previa no debería devolver nada. Si se ha actualizado el entorno anteriormente, se obtendrán los comandos correspondientes."
   ]
  },
  {
   "cell_type": "markdown",
   "metadata": {},
   "source": [
    "La interacción con el entorno de bash no es posible mediante la utilización de las órdenes de bash típicas precedidas de (!). Por lo que los pasos siguientes se deben realizar de forma preliminar en el mismo entorno que inicie el notebook.\n",
    "\n",
    "Se define explícitamente la variable de entorno SITK_SHOW_COMMAND.  "
   ]
  },
  {
   "cell_type": "raw",
   "metadata": {},
   "source": [
    "#bash:\n",
    "export SITK_SHOW_COMMAND=\"${HOME}/Documents/Programs/fiji/Fiji.app/ImageJ-linux64\""
   ]
  },
  {
   "cell_type": "markdown",
   "metadata": {},
   "source": [
    "Se debe exportar esta variable cada vez que se abra un nuevo entorno de trabajo (*proceso shell*) y se desee hacer uso de la orden **Show** de SimpleITK. Presumiblemente se va a continuar utilizando esta función en los días de trabajo próximos, por lo que se añade la orden de exportación al final del fichero de inicialización del terminal, **.bashrc**."
   ]
  },
  {
   "cell_type": "markdown",
   "metadata": {},
   "source": [
    "Ya sea editándolo directamente:"
   ]
  },
  {
   "cell_type": "raw",
   "metadata": {},
   "source": [
    "#bash:\n",
    "vim ~/.bashrc\n",
    "> ...\n",
    "> # Variables para orientar la funcion Show de la libreria SimpleITK para el visionado de imagenes\n",
    "> export SITK_SHOW_COMMAND=\"${HOME}/Documents/Programs/fiji/Fiji.app/ImageJ-linux64\"\n"
   ]
  },
  {
   "cell_type": "markdown",
   "metadata": {},
   "source": [
    "O enviando el string al final del fichero:  "
   ]
  },
  {
   "cell_type": "raw",
   "metadata": {},
   "source": [
    "# bash:\n",
    "echo \"export SITK_SHOW_COMMAND='${HOME}/Documents/Programs/fiji/Fiji.app/ImageJ-linux64'\" >> /home/jetxeberria/.bashrc"
   ]
  },
  {
   "cell_type": "markdown",
   "metadata": {},
   "source": [
    "El archivo .bashrc se carga cada vez que se ejecuta un nuevo proceso *bash*. En caso de no haber exportado previamente las variables y haber expandido directamente el archivo .bashrc, es necesario actualizar el entorno del proceso *bash*."
   ]
  },
  {
   "cell_type": "raw",
   "metadata": {},
   "source": [
    "# bash:\n",
    "source \"/home/jetxeberria/.bashrc\""
   ]
  },
  {
   "cell_type": "markdown",
   "metadata": {},
   "source": [
    "Se verifica la actualización del entorno:  "
   ]
  },
  {
   "cell_type": "raw",
   "metadata": {},
   "source": [
    "# bash:\n",
    "env | grep -e SITK"
   ]
  },
  {
   "cell_type": "raw",
   "metadata": {},
   "source": [
    "Output:\n",
    "> SITK_SHOW_COMMAND=/home/jetxeberria/Documents/Programs/fiji/Fiji.app/ImageJ-linux64\n"
   ]
  },
  {
   "cell_type": "markdown",
   "metadata": {},
   "source": [
    "Llegado a este punto se debe ejecutar nuevamente el notebook. Para realizar esto teniendo acceso a los ficheros del directorio raiz, acudir al mismo y ejecutar jupyter en dicha ruta."
   ]
  },
  {
   "cell_type": "raw",
   "metadata": {},
   "source": [
    "# bash:\n",
    "cd /path/to/directory\n",
    "jupyter notebook"
   ]
  },
  {
   "cell_type": "markdown",
   "metadata": {},
   "source": [
    "Al ejecutarse el notebook se guarda una copia del estado del entorno y de ahí en adelante los cambios que se realicen son exclusivos del entorno del notebook. "
   ]
  },
  {
   "cell_type": "code",
   "execution_count": 278,
   "metadata": {
    "scrolled": true
   },
   "outputs": [
    {
     "name": "stdout",
     "output_type": "stream",
     "text": [
      "env: SITK_SHOW_COMMAND='/home/jetxeberria/Documents/Programs/fiji/Fiji.app/ImageJ-linux64'\n"
     ]
    }
   ],
   "source": [
    "%set_env SITK_SHOW_COMMAND='/home/jetxeberria/Documents/Programs/fiji/Fiji.app/ImageJ-linux64'"
   ]
  },
  {
   "cell_type": "code",
   "execution_count": 279,
   "metadata": {},
   "outputs": [
    {
     "name": "stdout",
     "output_type": "stream",
     "text": [
      "SITK_SHOW_COMMAND='/home/jetxeberria/Documents/Programs/fiji/Fiji.app/ImageJ-linux64'\r\n"
     ]
    }
   ],
   "source": [
    "!env | grep -e SITK"
   ]
  },
  {
   "cell_type": "markdown",
   "metadata": {},
   "source": [
    "A pesar de este resultado, el entorno de trabajo original (el del proceso *bash*) sigue siendo el mismo, y así se puede comprobar:"
   ]
  },
  {
   "cell_type": "raw",
   "metadata": {},
   "source": [
    "# En el terminal que ejecuta el notebook:\n",
    "CTRL + Z               # Para el proceso que se esté ejecutandolo\n",
    "bg 1                   # bg % - envía el proceso % al fondo (libera la salida estándar)\n",
    "env | grep -e SITK     # El entorno original del proceso bash sigue siendo el mismo"
   ]
  },
  {
   "cell_type": "markdown",
   "metadata": {},
   "source": [
    "Si no se habían establecido previamente las variables de entorno, no aparecerán, los cambios del entorno del notebook no se transmiten al entorno del proceso padre. \n",
    "\n",
    "Es necesario actualizar el entorno en dicho proceso, ya que la ejecución del programa de visualización Fiji es gestionada desde el proceso padre y es éste quien debe tener sus variables de entorno adecuadas. Por esta razón se debe actualizar dicho entorno y reiniciar el notebook como se indica anteriormente.\n",
    "\n",
    "Una vez configurado el entorno, la ejecución del script de visualización sí se ejecuta correctamente. Crea tantas imágenes como slices correspondan al punto de vista segmentado y visualiza mediante Fiji todas las imágenes secuenciales.\n",
    "\n",
    "Aclarados estos aspectos de configuración, se comienza la obtención de las imágenes."
   ]
  },
  {
   "cell_type": "markdown",
   "metadata": {},
   "source": [
    "##### 1.2.2 - Lectura de archivos DICOM y generación de archivos PNG\n",
    "\n"
   ]
  },
  {
   "cell_type": "markdown",
   "metadata": {},
   "source": [
    "Se desarrolla a continuación una adaptación del script [DicomSeriesReader.py](https://itk.org/SimpleITKDoxygen/html/DicomSeriesReader_2DicomSeriesReader_8py-example.html):"
   ]
  },
  {
   "cell_type": "code",
   "execution_count": 1,
   "metadata": {},
   "outputs": [],
   "source": [
    "from __future__ import print_function\n",
    "import SimpleITK as sitk\n",
    "import sys, os\n",
    "from matplotlib import pyplot as plt\n",
    "import skimage\n",
    "plt.rcParams[\"image.cmap\"]='gray'"
   ]
  },
  {
   "cell_type": "markdown",
   "metadata": {},
   "source": [
    "Se definen el directorio contenedor de las imágenes Dicom y el nombre y extensión de referencia a los que convertir los ficheros *.dcm*."
   ]
  },
  {
   "cell_type": "code",
   "execution_count": 5,
   "metadata": {},
   "outputs": [],
   "source": [
    "input_dir = \"datos/software/dicom/WM/\"\n",
    "out_dir = \"datos/software/png/WM\"\n",
    "out_ext = \".png\""
   ]
  },
  {
   "cell_type": "markdown",
   "metadata": {},
   "source": [
    "Se genera un objeto lector de series ([ImageSeriesReader](https://itk.org/SimpleITKDoxygen/html/classitk_1_1simple_1_1ImageSeriesReader.html)). Este objeto dispone un método con el que se obtienen los nombres de los ficheros Dicom contenidos en el directorio indicado como argumento ([GetGDCMSeriesFileNames](https://itk.org/SimpleITKDoxygen/html/classitk_1_1simple_1_1ImageSeriesReader.html#a148badf23595d59e34b1d9360c79b539)) y se asignan como nombres para el lector ([SetFileNames](https://itk.org/SimpleITKDoxygen/html/classitk_1_1simple_1_1ImageSeriesReader.html#a0c494d1a8b50bd0639927767f25247c0)).\n"
   ]
  },
  {
   "cell_type": "code",
   "execution_count": 6,
   "metadata": {},
   "outputs": [
    {
     "name": "stdout",
     "output_type": "stream",
     "text": [
      "Reading Dicom directory:  datos/software/dicom/WM/\n"
     ]
    }
   ],
   "source": [
    "print (\"Reading Dicom directory: \", input_dir)\n",
    "reader = sitk.ImageSeriesReader()\n",
    "dicom_names = reader.GetGDCMSeriesFileNames(input_dir)\n",
    "reader.SetFileNames(dicom_names)"
   ]
  },
  {
   "cell_type": "markdown",
   "metadata": {},
   "source": [
    "Se ejecuta el objeto lector y se obtienen sus dimensiones."
   ]
  },
  {
   "cell_type": "code",
   "execution_count": 7,
   "metadata": {},
   "outputs": [
    {
     "name": "stdout",
     "output_type": "stream",
     "text": [
      "Image size:  341 158 392\n",
      "Image data type:  <class 'SimpleITK.SimpleITK.Image'>\n"
     ]
    }
   ],
   "source": [
    "image = reader.Execute()\n",
    "size = image.GetSize()\n",
    "print (\"Image size: \", size[0], size[1], size[2])\n",
    "print (\"Image data type: \", type(image))"
   ]
  },
  {
   "cell_type": "markdown",
   "metadata": {},
   "source": [
    "Teniendo las dimensiones sabemos que debemos obtener tantos 'slices' como marque *size[2]*\n",
    "\n",
    "A continuación se visualizan varios slices para comprobar que estén bien. Para visualizar las imágenes en el intérprete de ipython, en lugar de con el software externo Fiji, se utiliza el método *imshow* de la librería *matplotlib*. "
   ]
  },
  {
   "cell_type": "markdown",
   "metadata": {},
   "source": [
    "El método *imshow* espera un objeto de tipo *numpy array* por lo que se hace uso del método de SimpleITK *GetArrayFromImage*."
   ]
  },
  {
   "cell_type": "code",
   "execution_count": 8,
   "metadata": {},
   "outputs": [
    {
     "name": "stdout",
     "output_type": "stream",
     "text": [
      "<type 'numpy.ndarray'>\n"
     ]
    }
   ],
   "source": [
    "print (type(sitk.GetArrayFromImage(image[:,:,0])))"
   ]
  },
  {
   "cell_type": "code",
   "execution_count": 9,
   "metadata": {
    "scrolled": true
   },
   "outputs": [
    {
     "data": {
      "image/png": "[encoded data removed]",
      "text/plain": [
       "<matplotlib.figure.Figure at 0x7f6e0eb288d0>"
      ]
     },
     "metadata": {},
     "output_type": "display_data"
    }
   ],
   "source": [
    "fig, axes = plt.subplots(2,2, figsize=(15,15))\n",
    "ax00 = axes[0, 0]\n",
    "ax01 = axes[0, 1]\n",
    "ax10 = axes[1, 0]\n",
    "ax11 = axes[1, 1]\n",
    "ax00.imshow(sitk.GetArrayFromImage(image[:,:,40]))\n",
    "ax00.set_title(\"Image 41\")\n",
    "ax01.imshow(sitk.GetArrayFromImage(image[:,:,50]))\n",
    "ax01.set_title(\"Image 51\")\n",
    "ax10.imshow(sitk.GetArrayFromImage(image[:,:,60]))\n",
    "ax10.set_title(\"Image 61\")\n",
    "ax11.imshow(sitk.GetArrayFromImage(image[:,:,70]))\n",
    "ax11.set_title(\"Image 71\")\n",
    "plt.show()"
   ]
  },
  {
   "cell_type": "markdown",
   "metadata": {},
   "source": [
    "##### 1.2.3 Generación de imágenes de formato común.\n",
    "\n",
    "Para finalizar se guarda cada slice en un archivo distinto"
   ]
  },
  {
   "cell_type": "code",
   "execution_count": 10,
   "metadata": {},
   "outputs": [],
   "source": [
    "from matplotlib import image as img\n",
    "for i in range(size[2]):\n",
    "    slice_i = sitk.GetArrayFromImage(image[:,:,i])\n",
    "    out_fname = out_dir+dicom_names[i][dicom_names[i].rfind(\"/\"):dicom_names[i].find(\".\")]+out_ext\n",
    "    img.imsave(out_fname, slice_i)"
   ]
  },
  {
   "cell_type": "markdown",
   "metadata": {},
   "source": [
    "El método propio de la librería SimpleITK para guardar la imagen, *WriteImage*,  imprime todas las imagenes en negro, por lo que se hace uso del metodo *imsave* de la librería *matplotlib*."
   ]
  },
  {
   "cell_type": "markdown",
   "metadata": {},
   "source": [
    "##### 1.2.4 Visualización mediante sitk.Show()\n",
    "\n",
    "Se muestran las imágenes leídas mediante la orden **Show** que llama al programa **Fiji**. Por defecto dicho método exporta el archivo contenedor de las imágenes en un archivo secuencial de formato NII, la impresión en distintos formatos se logra con la modificación de la variable de entorno SITK_SHOW_EXTENSION, sin embargo, no ha aportado resultados satisfactorios al tratar de guardar los slices individualmente."
   ]
  },
  {
   "cell_type": "code",
   "execution_count": 310,
   "metadata": {},
   "outputs": [],
   "source": [
    "if (not \"SITK_NOSHOW\" in os.environ):\n",
    "    sitk.Show(image, \"Dicom Series\")"
   ]
  },
  {
   "cell_type": "markdown",
   "metadata": {},
   "source": [
    "Se debe repetir toda la secuencia de órdenes para cada serie de archivos Dicom, modificando adecuadamente las variables **input_dir** y **out_dir**"
   ]
  },
  {
   "cell_type": "markdown",
   "metadata": {},
   "source": [
    "##### 1.2.5 Manejo de imágenes SimpleITK.\n",
    "\n",
    "Una observación a tener en cuenta en la conversión entre imágenes SimpleITK.Image y Numpy.array es la diferente gestión de las dimensiones."
   ]
  },
  {
   "cell_type": "markdown",
   "metadata": {},
   "source": [
    "###### 1.2.5.1 - Imágenes DICOM\n",
    "\n",
    "Analizando el proceso de generación de los archivos .png se observa como se han guardado imagenes bidimensionales y en escala de grises (pixeles escalares, no vectores). "
   ]
  },
  {
   "cell_type": "code",
   "execution_count": 11,
   "metadata": {},
   "outputs": [
    {
     "name": "stdout",
     "output_type": "stream",
     "text": [
      "image dtype: \n",
      "\tdtype: <class 'SimpleITK.SimpleITK.Image'> \n",
      "\tdshape: (341, 158, 392) \n",
      "\tpixeldtype: 16-bit unsigned integer \n",
      "\tnumber of components per pixel: 1 \n",
      "\t pixel: 0\n",
      "slice_50 dtype: \n",
      "\tdtype: <class 'SimpleITK.SimpleITK.Image'> \n",
      "\tdshape: (341, 158) \n",
      "\tpixeldtype: 16-bit unsigned integer \n",
      "\tnumber of components per pixel: 1 \n",
      "\t pixel: 0\n",
      "slice_50_asarray \n",
      "\tdtype: <type 'numpy.ndarray'> \n",
      "\tdshape: (158, 341) \n",
      "\tpixeldtype: uint16 \n",
      "\t pixel: 0\n"
     ]
    }
   ],
   "source": [
    "print (\"image dtype: \\n\\tdtype: {} \\n\\tdshape: {} \\n\\tpixeldtype: {} \\n\\tnumber of components per pixel: {} \\n\\t pixel: {}\".format(type(image), image.GetSize(), image.GetPixelIDTypeAsString(), image.GetNumberOfComponentsPerPixel(), image.GetPixel(0,0,0)))\n",
    "\n",
    "slice_50 = image[:,:,49]\n",
    "print (\"slice_50 dtype: \\n\\tdtype: {} \\n\\tdshape: {} \\n\\tpixeldtype: {} \\n\\tnumber of components per pixel: {} \\n\\t pixel: {}\".format(type(slice_50), slice_50.GetSize(), slice_50.GetPixelIDTypeAsString(), slice_50.GetNumberOfComponentsPerPixel(), slice_50.GetPixel(0,0)))\n",
    "\n",
    "slice_50_asarray = sitk.GetArrayFromImage(slice_50)\n",
    "print (\"slice_50_asarray \\n\\tdtype: {} \\n\\tdshape: {} \\n\\tpixeldtype: {} \\n\\t pixel: {}\".format(type(slice_50_asarray), slice_50_asarray.shape, slice_50_asarray.dtype, slice_50[0,0]))"
   ]
  },
  {
   "cell_type": "markdown",
   "metadata": {},
   "source": [
    "A pesar de ello, cargar la imagen guardada en un fichero PNG genera la tercera dimensión con una longitud de 4 unidades."
   ]
  },
  {
   "cell_type": "markdown",
   "metadata": {},
   "source": [
    "Se lee un nuevo archivo DICOM correspondiente a aquel del que se ha obtenido el archivo PNG para comparar las lecturas de los distintos archivos"
   ]
  },
  {
   "cell_type": "code",
   "execution_count": 22,
   "metadata": {
    "scrolled": true
   },
   "outputs": [
    {
     "name": "stdout",
     "output_type": "stream",
     "text": [
      "Reading Dicom file:  datos/software/dicom/WM/IMG0050.dcm\n",
      "dicom_image \n",
      "\tdtype: <class 'SimpleITK.SimpleITK.Image'> \n",
      "\tdshape: (341, 158, 1) \n",
      "\tpixeldtype: 16-bit unsigned integer \n",
      "\tnumber of components per pixel: 1 \n",
      "\tpixel: \n"
     ]
    }
   ],
   "source": [
    "tocompare_dicom_fname = \"datos/software/dicom\"+input_fname[input_fname.find(\"png\")+3:input_fname.find(\".png\")]+\".dcm\"\n",
    "print (\"Reading Dicom file: \", tocompare_dicom_fname)\n",
    "reader = sitk.ImageFileReader()\n",
    "reader.SetFileName(tocompare_dicom_fname)\n",
    "dicom_image = reader.Execute()\n",
    "print (\"dicom_image \\n\\tdtype: {} \\n\\tdshape: {} \\n\\tpixeldtype: {} \\n\\tnumber of components per pixel: {} \\n\\tpixel: \".format(type(dicom_image), dicom_image.GetSize(), dicom_image.GetPixelIDTypeAsString(), dicom_image.GetNumberOfComponentsPerPixel()))\n"
   ]
  },
  {
   "cell_type": "markdown",
   "metadata": {},
   "source": [
    "###### 1.2.5.2 - Imágenes PNG \n",
    "\n",
    "Para analizar este comportamiento vamos a cargar una imagen PNG de las recien generadas."
   ]
  },
  {
   "cell_type": "markdown",
   "metadata": {},
   "source": [
    "###### Mediante matplotlib\n"
   ]
  },
  {
   "cell_type": "code",
   "execution_count": 23,
   "metadata": {},
   "outputs": [
    {
     "name": "stdout",
     "output_type": "stream",
     "text": [
      "matplot_png_image \n",
      "\tdtype: <type 'numpy.ndarray'> \n",
      "\tdshape: (158, 341, 4) \n",
      "\tpixeldtype: float32 \n",
      "\t pixel: [ 0.  0.  0.  1.]\n"
     ]
    },
    {
     "data": {
      "text/plain": [
       "<matplotlib.image.AxesImage at 0x7f6e07cf5510>"
      ]
     },
     "execution_count": 23,
     "metadata": {},
     "output_type": "execute_result"
    },
    {
     "data": {
      "image/png": "[encoded data removed]",
      "text/plain": [
       "<matplotlib.figure.Figure at 0x7f6e0f449750>"
      ]
     },
     "metadata": {},
     "output_type": "display_data"
    }
   ],
   "source": [
    "input_fname = \"datos/software/png/WM/IMG0050.png\"\n",
    "matplot_png_image = plt.imread(input_fname)\n",
    "print (\"matplot_png_image \\n\\tdtype: {} \\n\\tdshape: {} \\n\\tpixeldtype: {} \\n\\t pixel: {}\".format(type(matplot_png_image), matplot_png_image.shape, matplot_png_image.dtype, matplot_png_image[0,0]))\n",
    "plt.imshow(matplot_png_image)\n"
   ]
  },
  {
   "cell_type": "markdown",
   "metadata": {},
   "source": [
    "###### Mediante SimpleITK"
   ]
  },
  {
   "cell_type": "code",
   "execution_count": 24,
   "metadata": {},
   "outputs": [
    {
     "name": "stdout",
     "output_type": "stream",
     "text": [
      "sitk_png_image \n",
      "\tdtype: <class 'SimpleITK.SimpleITK.Image'> \n",
      "\tdshape: (341, 158) \n",
      "\tpixeldtype: vector of 8-bit unsigned integer \n",
      "\tnumber of components per pixel: 4 \n",
      "\tpixel: (0, 0, 0, 255)\n"
     ]
    },
    {
     "data": {
      "text/plain": [
       "<matplotlib.image.AxesImage at 0x7f6e0f23f950>"
      ]
     },
     "execution_count": 24,
     "metadata": {},
     "output_type": "execute_result"
    },
    {
     "data": {
      "image/png": "[encoded data removed]",
      "text/plain": [
       "<matplotlib.figure.Figure at 0x7f6e0f5ff550>"
      ]
     },
     "metadata": {},
     "output_type": "display_data"
    }
   ],
   "source": [
    "reader = sitk.ImageFileReader()\n",
    "reader.SetFileName(input_fname)\n",
    "sitk_png_image = reader.Execute()\n",
    "print (\"sitk_png_image \\n\\tdtype: {} \\n\\tdshape: {} \\n\\tpixeldtype: {} \\n\\tnumber of components per pixel: {} \\n\\tpixel: {}\".format(type(sitk_png_image), sitk_png_image.GetSize(), sitk_png_image.GetPixelIDTypeAsString(), sitk_png_image.GetNumberOfComponentsPerPixel(), sitk_png_image.GetPixel(0,0)))\n",
    "plt.imshow(sitk.GetArrayFromImage(sitk_png_image))\n"
   ]
  },
  {
   "cell_type": "markdown",
   "metadata": {},
   "source": [
    "La carga mediante matplotlib o mediante SimpleITK resulta en una imagen con la cuarta dimensión. Por lo que se descarta que la generación de la dimensión esté relacionada con la librería utilizada. Más apunta a ser consecuencia del guardado del fichero en el formato PNG."
   ]
  },
  {
   "cell_type": "code",
   "execution_count": 25,
   "metadata": {},
   "outputs": [
    {
     "name": "stdout",
     "output_type": "stream",
     "text": [
      "sitk_png_image_asarray \n",
      "\tdtype: <type 'numpy.ndarray'> \n",
      "\tdshape: (158, 341, 4) \n",
      "\tpixeldtype: uint8\n"
     ]
    }
   ],
   "source": [
    "sitk_png_image_asarray = sitk.GetArrayFromImage(sitk_png_image)\n",
    "print (\"sitk_png_image_asarray \\n\\tdtype: {} \\n\\tdshape: {} \\n\\tpixeldtype: {}\".format(type(sitk_png_image_asarray), sitk_png_image_asarray.shape, sitk_png_image_asarray.dtype))"
   ]
  },
  {
   "cell_type": "markdown",
   "metadata": {},
   "source": [
    "Una imagen en escala de grises se puede representar con un numpy.array de 2 dimensones. \n",
    "\n",
    "Entonces, ¿cuales son el resto de valores de dicho vector?"
   ]
  },
  {
   "cell_type": "code",
   "execution_count": 26,
   "metadata": {},
   "outputs": [
    {
     "name": "stdout",
     "output_type": "stream",
     "text": [
      "sitk_png_image \n",
      "\tpixel vector:  (0, 0, 0, 255)\n",
      "sitk_png_image_asarray \n",
      "\tpixel vector:  [  0   0   0 255]\n"
     ]
    }
   ],
   "source": [
    "print (\"sitk_png_image \\n\\tpixel vector: \", sitk_png_image.GetPixel(0,0))\n",
    "print (\"sitk_png_image_asarray \\n\\tpixel vector: \", sitk_png_image_asarray[0,0])"
   ]
  },
  {
   "cell_type": "markdown",
   "metadata": {},
   "source": [
    "No es casualidad que los tres primeros componentes del vector sean iguales. Son iguales a lo largo de toda la imagen. Es decir, al tratar imágenes en escala de grises, con tan solo un slice se tiene la imagen, el resto de información se completa para adecuarse al formato de PNG, pero no aporta información."
   ]
  },
  {
   "cell_type": "code",
   "execution_count": 27,
   "metadata": {},
   "outputs": [
    {
     "name": "stdout",
     "output_type": "stream",
     "text": [
      "True\n",
      "True\n"
     ]
    }
   ],
   "source": [
    "print (sitk_png_image_asarray[..., 0].all() == sitk_png_image_asarray[..., 1].all())\n",
    "print (sitk_png_image_asarray[..., 0].all() == sitk_png_image_asarray[..., 2].all())"
   ]
  },
  {
   "cell_type": "markdown",
   "metadata": {},
   "source": [
    "Lo mismo ocurre con los cargados mediante Matplotlib"
   ]
  },
  {
   "cell_type": "code",
   "execution_count": 28,
   "metadata": {},
   "outputs": [
    {
     "name": "stdout",
     "output_type": "stream",
     "text": [
      "True\n",
      "True\n"
     ]
    }
   ],
   "source": [
    "print (matplot_png_image[..., 0].all() == matplot_png_image[..., 1].all())\n",
    "print (matplot_png_image[..., 0].all() == matplot_png_image[..., 2].all())\n"
   ]
  },
  {
   "cell_type": "code",
   "execution_count": 29,
   "metadata": {
    "scrolled": true
   },
   "outputs": [
    {
     "name": "stdout",
     "output_type": "stream",
     "text": [
      "dicom_image_asarray \n",
      "\tdtype: <type 'numpy.ndarray'> \n",
      "\tdshape: (1, 158, 341) \n",
      "\tpixeldtype: uint16 \n",
      "\t pixel: [0 0 0 0 0 0 0 0 0 0 0 0 0 0 0 0 0 0 0 0 0 0 0 0 0 0 0 0 0 0 0 0 0 0 0 0 0\n",
      " 0 0 0 0 0 0 0 0 0 0 0 0 0 0 0 0 0 0 0 0 0 0 0 0 0 0 0 0 0 0 0 0 0 0 0 0 0\n",
      " 0 0 0 0 0 0 0 0 0 0 0 0 0 0 0 0 0 0 0 0 0 0 0 0 0 0 0 0 0 0 0 0 0 0 0 0 0\n",
      " 0 0 0 0 0 0 0 0 0 0 0 0 0 0 0 0 0 0 0 0 0 0 0 0 0 0 0 0 0 0 0 0 0 0 0 0 0\n",
      " 0 0 0 0 0 0 0 0 0 0 0 0 0 0 0 0 0 0 0 0 0 0 0 0 0 0 0 0 0 0 0 0 0 0 0 0 0\n",
      " 0 0 0 0 0 0 0 0 0 0 0 0 0 0 0 0 0 0 0 0 0 0 0 0 0 0 0 0 0 0 0 0 0 0 0 0 0\n",
      " 0 0 0 0 0 0 0 0 0 0 0 0 0 0 0 0 0 0 0 0 0 0 0 0 0 0 0 0 0 0 0 0 0 0 0 0 0\n",
      " 0 0 0 0 0 0 0 0 0 0 0 0 0 0 0 0 0 0 0 0 0 0 0 0 0 0 0 0 0 0 0 0 0 0 0 0 0\n",
      " 0 0 0 0 0 0 0 0 0 0 0 0 0 0 0 0 0 0 0 0 0 0 0 0 0 0 0 0 0 0 0 0 0 0 0 0 0\n",
      " 0 0 0 0 0 0 0 0]\n",
      "sitk_png_image_asarray \n",
      "\tdtype: <type 'numpy.ndarray'> \n",
      "\tdshape: (158, 341, 4) \n",
      "\tpixeldtype: uint8 \n",
      "\t pixel: [  0   0   0 255]\n"
     ]
    }
   ],
   "source": [
    "dicom_image_asarray = sitk.GetArrayFromImage(dicom_image)\n",
    "print (\"dicom_image_asarray \\n\\tdtype: {} \\n\\tdshape: {} \\n\\tpixeldtype: {} \\n\\t pixel: {}\".format(type(dicom_image_asarray), dicom_image_asarray.shape, dicom_image_asarray.dtype, dicom_image_asarray[0,0]))\n",
    "print (\"sitk_png_image_asarray \\n\\tdtype: {} \\n\\tdshape: {} \\n\\tpixeldtype: {} \\n\\t pixel: {}\".format(type(sitk_png_image_asarray), sitk_png_image_asarray.shape, sitk_png_image_asarray.dtype, sitk_png_image_asarray[0,0]))"
   ]
  },
  {
   "cell_type": "markdown",
   "metadata": {},
   "source": [
    "Con esta comprobación se verifica como la generación de un vector de dimensión 4 en cada pixel es obra de la conversión a formato PNG.\n",
    "\n",
    "A pesar de las dimensiones extras, las comparaciones entre ellas reportan ser similares."
   ]
  },
  {
   "cell_type": "code",
   "execution_count": 30,
   "metadata": {},
   "outputs": [
    {
     "name": "stdout",
     "output_type": "stream",
     "text": [
      "The slice previously loaded in the generation of the images match with the PNG loaded in the test (by SimpleITK):\n",
      "True\n",
      "True\n",
      "This doesn't match if the generation of the slicese has been done with other path.\n",
      "\n",
      "The dicom recently loaded directly from DICOM file is equal as the PNG loaded file (by SimpleITK):\n",
      "True\n",
      "True\n"
     ]
    }
   ],
   "source": [
    "print (\"The slice previously loaded in the generation of the images match with the PNG loaded in the test (by SimpleITK):\")\n",
    "print (slice_50_asarray.all() == sitk_png_image_asarray[..., 0].all())\n",
    "print (slice_50_asarray.all() == sitk_png_image_asarray.all())\n",
    "print (\"This doesn't match if the generation of the slicese has been done with other path.\\n\")\n",
    "\n",
    "print (\"The dicom recently loaded directly from DICOM file is equal as the PNG loaded file (by SimpleITK):\")\n",
    "print (dicom_image_asarray.all() == sitk_png_image_asarray[..., 0].all())\n",
    "print (dicom_image_asarray.all() == sitk_png_image_asarray.all())"
   ]
  },
  {
   "cell_type": "code",
   "execution_count": 506,
   "metadata": {},
   "outputs": [
    {
     "name": "stdout",
     "output_type": "stream",
     "text": [
      "The slice previously loaded in the generation of the images match with the PNG loaded in the test (by Matplotlib):\n",
      "True\n",
      "True\n",
      "This doesn't match if the generation of the slicese has been done with other path.\n",
      "\n",
      "The dicom recently loaded directly from DICOM file is equal as the PNG loaded file (by Matplotlib):\n",
      "True\n",
      "True\n"
     ]
    }
   ],
   "source": [
    "\n",
    "print (\"The slice previously loaded in the generation of the images match with the PNG loaded in the test (by Matplotlib):\")\n",
    "print (slice_50_asarray.all() == matplot_png_image[..., 0].all())\n",
    "print (slice_50_asarray.all() == matplot_png_image.all())\n",
    "print (\"This doesn't match if the generation of the slicese has been done with other path.\\n\")\n",
    "\n",
    "print (\"The dicom recently loaded directly from DICOM file is equal as the PNG loaded file (by Matplotlib):\")\n",
    "print (dicom_image_asarray.all() == matplot_png_image[..., 0].all())\n",
    "print (dicom_image_asarray.all() == matplot_png_image.all())\n"
   ]
  },
  {
   "cell_type": "code",
   "execution_count": 507,
   "metadata": {},
   "outputs": [
    {
     "data": {
      "image/png": "[encoded data removed]",
      "text/plain": [
       "<matplotlib.figure.Figure at 0x7f4b630546d0>"
      ]
     },
     "metadata": {},
     "output_type": "display_data"
    }
   ],
   "source": [
    "fig, axes = plt.subplots(2,2, figsize=(15,15))\n",
    "ax00 = axes[0, 0]\n",
    "ax01 = axes[0, 1]\n",
    "ax10 = axes[1, 0]\n",
    "ax11 = axes[1, 1]\n",
    "ax00.imshow(sitk_png_image_asarray[...,0])\n",
    "ax00.set_title(\"sitk_png_image_asarray[...,0]\")\n",
    "ax01.imshow(sitk_png_image_asarray[:,:,1])\n",
    "ax01.set_title(\"sitk_png_image_asarray[...,1]\")\n",
    "ax10.imshow(sitk_png_image_asarray[:,:,2])\n",
    "ax10.set_title(\"sitk_png_image_asarray[...,2]\")\n",
    "ax11.imshow(sitk_png_image_asarray[...,3])\n",
    "ax11.set_title(\"sitk_png_image_asarray[...,3]\")\n",
    "plt.show()"
   ]
  },
  {
   "cell_type": "code",
   "execution_count": 517,
   "metadata": {},
   "outputs": [
    {
     "data": {
      "text/plain": [
       "Text(0.5,1,u'alpha_test3')"
      ]
     },
     "execution_count": 517,
     "metadata": {},
     "output_type": "execute_result"
    },
    {
     "data": {
      "image/png": "[encoded data removed]",
      "text/plain": [
       "<matplotlib.figure.Figure at 0x7f4b5caa4f10>"
      ]
     },
     "metadata": {},
     "output_type": "display_data"
    }
   ],
   "source": [
    "fig, axes = plt.subplots(2,2, figsize=(15,15))\n",
    "\n",
    "ax00 = axes[0,0]\n",
    "ax01 = axes[0,1]\n",
    "ax10 = axes[1,0]\n",
    "ax11 = axes[1,1]\n",
    "\n",
    "ax00.imshow(sitk_png_image_asarray)\n",
    "ax00.set_title(\"sitk_png_image_asarray\")\n",
    "\n",
    "alpha_test = sitk_png_image_asarray\n",
    "alpha_test[...,3] = 0\n",
    "ax01.imshow(alpha_test)\n",
    "ax01.set_title(\"alpha_test\")\n",
    "\n",
    "alpha_test[...,3] = 100\n",
    "ax10.imshow(alpha_test)\n",
    "ax10.set_title(\"alpha_test2\")\n",
    "\n",
    "alpha_test[...,3] = 200\n",
    "ax11.imshow(alpha_test)\n",
    "ax11.set_title(\"alpha_test3\")"
   ]
  },
  {
   "cell_type": "markdown",
   "metadata": {},
   "source": [
    "Finalmente se comprueba y verifica por análisis de la documentación [[PNG: The Definitive Guide](http://www.libpng.org/pub/png/book/chapter01.html)] que el formato PNG guarda los archivos en sistema RGBA siendo el último elemento del vector pixel el canal alpha, el cual regula la transparencia de la imagen."
   ]
  },
  {
   "cell_type": "markdown",
   "metadata": {},
   "source": [
    "Llegado a este punto, teniendo en cuenta las pruebas realizadas, se tiene la certeza de la correlación entre los dos formatos utilizados lo que aporta solidez para la confianza en los procesamientos que se hagan en las imágenes en adelante.\n",
    "\n",
    "Se debe prestar atención a las orientaciones de las imágenes dado que las distintas transformaciones y manejo de distintos formatos modifican el orden de las dimensiones de la figura. "
   ]
  },
  {
   "cell_type": "markdown",
   "metadata": {},
   "source": [
    "#### 1.2.6 - Comprobación de imágenes binarias\n",
    "\n",
    "Se verifica que las imágenes extraídas de los archivos I3TWM.hdr I3TGM.hdr e I3TCSF.hdr son binarias:"
   ]
  },
  {
   "cell_type": "code",
   "execution_count": 522,
   "metadata": {},
   "outputs": [
    {
     "name": "stdout",
     "output_type": "stream",
     "text": [
      "dicom_image_asarray: \n",
      "\tpixeldtype: uint16\n",
      "unique elements count (dicom_image_asarray): \n",
      "[[    0     1]\n",
      " [52664  1214]]\n",
      "max element = 1\n",
      "\n",
      "sitk_png_image_asarray \n",
      "\tpixeldtype: uint8\n",
      "unique elements count (sitk_png_image_asarray): \n",
      "[[    0   255]\n",
      " [52664  1214]]\n",
      "max element = 255\n"
     ]
    }
   ],
   "source": [
    "print (\"dicom_image_asarray: \\n\\tpixeldtype: {}\".format( dicom_image_asarray.dtype))\n",
    "unique_image, counts_image = np.unique(dicom_image_asarray, return_counts=True)\n",
    "print (\"unique elements count (dicom_image_asarray): \\n{}\".format(np.asarray((unique_image, counts_image))))\n",
    "print (\"max element = {}\\n\".format(np.max(dicom_image_asarray)))\n",
    "\n",
    "print (\"sitk_png_image_asarray \\n\\tpixeldtype: {}\".format( sitk_png_image_asarray.dtype))\n",
    "unique_image, counts_image = np.unique(sitk_png_image_asarray[...,0], return_counts=True)\n",
    "print (\"unique elements count (sitk_png_image_asarray): \\n{}\".format(np.asarray((unique_image, counts_image))))\n",
    "print (\"max element = {}\".format(np.max(sitk_png_image_asarray)))\n",
    "\n"
   ]
  },
  {
   "cell_type": "markdown",
   "metadata": {},
   "source": [
    "###### 1.2.7 Casting\n",
    "\n",
    "En pasos próximos va a ser necesario el tratamiento entre distintas imágenes, o imágenes y máscaras, por lo que se introduce este aspecto que puede ser problemático si no se tiene en cuenta. Para realizar este tipo de operaciones las imágenes deben tener el mismo tipo de datos, y por supuesto las mismas dimensiones.\n",
    "\n",
    "El casting se puede realizar tanto mediante órdenes de la librería SimpleITK como mediante órdenes de la librería Numpy"
   ]
  },
  {
   "cell_type": "code",
   "execution_count": null,
   "metadata": {},
   "outputs": [],
   "source": [
    "###### Mediante SimpleITK"
   ]
  },
  {
   "cell_type": "code",
   "execution_count": 526,
   "metadata": {},
   "outputs": [
    {
     "name": "stdout",
     "output_type": "stream",
     "text": [
      "matplot_png_image_AsSitkImage \n",
      "\tdtype: <class 'SimpleITK.SimpleITK.Image'> \n",
      "\tdshape: (341, 158) \n",
      "\tpixeldtype: vector of 32-bit float \n",
      "\tnumber of components per pixel: 4\n",
      "sitk_png_image \n",
      "\tdtype: <class 'SimpleITK.SimpleITK.Image'> \n",
      "\tdshape: (341, 158) \n",
      "\tpixeldtype: vector of 8-bit unsigned integer \n",
      "\tnumber of components per pixel: 4\n"
     ]
    },
    {
     "ename": "RuntimeError",
     "evalue": "Exception thrown in SimpleITK Subtract: /tmp/SimpleITK-build/SimpleITK-build/Code/BasicFilters/src/sitkSubtractImageFilter.cxx:106:\nsitk::ERROR: Image2 for SubtractImageFilter doesn't match type or dimension!",
     "output_type": "error",
     "traceback": [
      "\u001b[0;31m---------------------------------------------------------------------------\u001b[0m",
      "\u001b[0;31mRuntimeError\u001b[0m                              Traceback (most recent call last)",
      "\u001b[0;32m<ipython-input-526-7854e070d8e5>\u001b[0m in \u001b[0;36m<module>\u001b[0;34m()\u001b[0m\n\u001b[1;32m      2\u001b[0m \u001b[0;32mprint\u001b[0m \u001b[0;34m(\u001b[0m\u001b[0;34m\"matplot_png_image_AsSitkImage \\n\\tdtype: {} \\n\\tdshape: {} \\n\\tpixeldtype: {} \\n\\tnumber of components per pixel: {}\"\u001b[0m\u001b[0;34m.\u001b[0m\u001b[0mformat\u001b[0m\u001b[0;34m(\u001b[0m\u001b[0mtype\u001b[0m\u001b[0;34m(\u001b[0m\u001b[0mdicom_image\u001b[0m\u001b[0;34m)\u001b[0m\u001b[0;34m,\u001b[0m \u001b[0mmatplot_png_image_AsSitkImage\u001b[0m\u001b[0;34m.\u001b[0m\u001b[0mGetSize\u001b[0m\u001b[0;34m(\u001b[0m\u001b[0;34m)\u001b[0m\u001b[0;34m,\u001b[0m \u001b[0mmatplot_png_image_AsSitkImage\u001b[0m\u001b[0;34m.\u001b[0m\u001b[0mGetPixelIDTypeAsString\u001b[0m\u001b[0;34m(\u001b[0m\u001b[0;34m)\u001b[0m\u001b[0;34m,\u001b[0m \u001b[0mmatplot_png_image_AsSitkImage\u001b[0m\u001b[0;34m.\u001b[0m\u001b[0mGetNumberOfComponentsPerPixel\u001b[0m\u001b[0;34m(\u001b[0m\u001b[0;34m)\u001b[0m\u001b[0;34m)\u001b[0m\u001b[0;34m)\u001b[0m\u001b[0;34m\u001b[0m\u001b[0m\n\u001b[1;32m      3\u001b[0m \u001b[0;32mprint\u001b[0m \u001b[0;34m(\u001b[0m\u001b[0;34m\"sitk_png_image \\n\\tdtype: {} \\n\\tdshape: {} \\n\\tpixeldtype: {} \\n\\tnumber of components per pixel: {}\"\u001b[0m\u001b[0;34m.\u001b[0m\u001b[0mformat\u001b[0m\u001b[0;34m(\u001b[0m\u001b[0mtype\u001b[0m\u001b[0;34m(\u001b[0m\u001b[0msitk_png_image\u001b[0m\u001b[0;34m)\u001b[0m\u001b[0;34m,\u001b[0m \u001b[0msitk_png_image\u001b[0m\u001b[0;34m.\u001b[0m\u001b[0mGetSize\u001b[0m\u001b[0;34m(\u001b[0m\u001b[0;34m)\u001b[0m\u001b[0;34m,\u001b[0m \u001b[0msitk_png_image\u001b[0m\u001b[0;34m.\u001b[0m\u001b[0mGetPixelIDTypeAsString\u001b[0m\u001b[0;34m(\u001b[0m\u001b[0;34m)\u001b[0m\u001b[0;34m,\u001b[0m \u001b[0msitk_png_image\u001b[0m\u001b[0;34m.\u001b[0m\u001b[0mGetNumberOfComponentsPerPixel\u001b[0m\u001b[0;34m(\u001b[0m\u001b[0;34m)\u001b[0m\u001b[0;34m)\u001b[0m\u001b[0;34m)\u001b[0m\u001b[0;34m\u001b[0m\u001b[0m\n\u001b[0;32m----> 4\u001b[0;31m \u001b[0mrest\u001b[0m \u001b[0;34m=\u001b[0m \u001b[0msitk\u001b[0m\u001b[0;34m.\u001b[0m\u001b[0mSubtract\u001b[0m\u001b[0;34m(\u001b[0m\u001b[0msitk_png_image\u001b[0m\u001b[0;34m,\u001b[0m \u001b[0mdicom_image\u001b[0m\u001b[0;34m)\u001b[0m\u001b[0;34m\u001b[0m\u001b[0m\n\u001b[0m",
      "\u001b[0;32m/usr/local/lib/python2.7/dist-packages/SimpleITK/SimpleITK.pyc\u001b[0m in \u001b[0;36mSubtract\u001b[0;34m(*args)\u001b[0m\n\u001b[1;32m  63221\u001b[0m \u001b[0;34m\u001b[0m\u001b[0m\n\u001b[1;32m  63222\u001b[0m     \"\"\"\n\u001b[0;32m> 63223\u001b[0;31m     \u001b[0;32mreturn\u001b[0m \u001b[0m_SimpleITK\u001b[0m\u001b[0;34m.\u001b[0m\u001b[0mSubtract\u001b[0m\u001b[0;34m(\u001b[0m\u001b[0;34m*\u001b[0m\u001b[0margs\u001b[0m\u001b[0;34m)\u001b[0m\u001b[0;34m\u001b[0m\u001b[0m\n\u001b[0m\u001b[1;32m  63224\u001b[0m \u001b[0;32mclass\u001b[0m \u001b[0mSumProjectionImageFilter\u001b[0m\u001b[0;34m(\u001b[0m\u001b[0mImageFilter_1\u001b[0m\u001b[0;34m)\u001b[0m\u001b[0;34m:\u001b[0m\u001b[0;34m\u001b[0m\u001b[0m\n\u001b[1;32m  63225\u001b[0m     \"\"\"\n",
      "\u001b[0;31mRuntimeError\u001b[0m: Exception thrown in SimpleITK Subtract: /tmp/SimpleITK-build/SimpleITK-build/Code/BasicFilters/src/sitkSubtractImageFilter.cxx:106:\nsitk::ERROR: Image2 for SubtractImageFilter doesn't match type or dimension!"
     ]
    }
   ],
   "source": [
    "matplot_png_image_AsSitkImage = sitk.GetImageFromArray(matplot_png_image, isVector=True)\n",
    "print (\"matplot_png_image_AsSitkImage \\n\\tdtype: {} \\n\\tdshape: {} \\n\\tpixeldtype: {} \\n\\tnumber of components per pixel: {}\".format(type(dicom_image), matplot_png_image_AsSitkImage.GetSize(), matplot_png_image_AsSitkImage.GetPixelIDTypeAsString(), matplot_png_image_AsSitkImage.GetNumberOfComponentsPerPixel()))\n",
    "print (\"sitk_png_image \\n\\tdtype: {} \\n\\tdshape: {} \\n\\tpixeldtype: {} \\n\\tnumber of components per pixel: {}\".format(type(sitk_png_image), sitk_png_image.GetSize(), sitk_png_image.GetPixelIDTypeAsString(), sitk_png_image.GetNumberOfComponentsPerPixel()))\n",
    "rest = sitk.Subtract(sitk_png_image, dicom_image)"
   ]
  },
  {
   "cell_type": "markdown",
   "metadata": {},
   "source": [
    "No se pueden restar estas imágenes. Va a ser necesario realizar un casting para que ambas imágenes compartan el mismo tipo de datos.\n"
   ]
  },
  {
   "cell_type": "code",
   "execution_count": 536,
   "metadata": {},
   "outputs": [
    {
     "name": "stdout",
     "output_type": "stream",
     "text": [
      "matplot_png_image_AsSitkImage \n",
      "\tdtype: <class 'SimpleITK.SimpleITK.Image'> \n",
      "\tdshape: (341, 158) \n",
      "\tpixeldtype: vector of 32-bit float \n",
      "\tnumber of components per pixel: 4\n",
      "sitk_png_image_casted \n",
      "\tdtype: <class 'SimpleITK.SimpleITK.Image'> \n",
      "\tdshape: (341, 158) \n",
      "\tpixeldtype: vector of 32-bit float \n",
      "\tnumber of components per pixel: 4\n"
     ]
    }
   ],
   "source": [
    "sitk_png_image_casted = sitk.Cast(sitk_png_image, matplot_png_image_AsSitkImage.GetPixelIDValue())\n",
    "print (\"matplot_png_image_AsSitkImage \\n\\tdtype: {} \\n\\tdshape: {} \\n\\tpixeldtype: {} \\n\\tnumber of components per pixel: {}\".format(type(dicom_image), matplot_png_image_AsSitkImage.GetSize(), matplot_png_image_AsSitkImage.GetPixelIDTypeAsString(), matplot_png_image_AsSitkImage.GetNumberOfComponentsPerPixel()))\n",
    "print (\"sitk_png_image_casted \\n\\tdtype: {} \\n\\tdshape: {} \\n\\tpixeldtype: {} \\n\\tnumber of components per pixel: {}\".format(type(sitk_png_image_casted), sitk_png_image_casted.GetSize(), sitk_png_image_casted.GetPixelIDTypeAsString(), sitk_png_image_casted.GetNumberOfComponentsPerPixel()))\n",
    "\n",
    "rest = sitk.Subtract(sitk_png_image_casted, matplot_png_image_AsSitkImage)"
   ]
  },
  {
   "cell_type": "code",
   "execution_count": 538,
   "metadata": {},
   "outputs": [
    {
     "data": {
      "text/plain": [
       "<matplotlib.image.AxesImage at 0x7f4b5c87ae50>"
      ]
     },
     "execution_count": 538,
     "metadata": {},
     "output_type": "execute_result"
    },
    {
     "data": {
      "image/png": "[encoded data removed]",
      "text/plain": [
       "<matplotlib.figure.Figure at 0x7f4b61cbed10>"
      ]
     },
     "metadata": {},
     "output_type": "display_data"
    }
   ],
   "source": [
    "plt.imshow(sitk.GetArrayFromImage(rest))"
   ]
  },
  {
   "cell_type": "markdown",
   "metadata": {},
   "source": [
    "El siguiente paso del problema se desarrolla en el notebook [Procedimiento02.ipynb](https://github.com/jetxeberria/computer_vision/blob/master/computer_vision_notebook_02.ipynb)"
   ]
  }
 ],
 "metadata": {
  "kernelspec": {
   "display_name": "Python 2",
   "language": "python",
   "name": "python2"
  },
  "language_info": {
   "codemirror_mode": {
    "name": "ipython",
    "version": 2
   },
   "file_extension": ".py",
   "mimetype": "text/x-python",
   "name": "python",
   "nbconvert_exporter": "python",
   "pygments_lexer": "ipython2",
   "version": "2.7.12"
  }
 },
 "nbformat": 4,
 "nbformat_minor": 2
}
